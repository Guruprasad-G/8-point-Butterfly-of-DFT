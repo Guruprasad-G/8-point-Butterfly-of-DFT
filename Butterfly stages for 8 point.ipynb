{
 "cells": [
  {
   "cell_type": "markdown",
   "metadata": {},
   "source": [
    "# DFT and IDFT in DIT and DIF"
   ]
  },
  {
   "cell_type": "code",
   "execution_count": 13,
   "metadata": {},
   "outputs": [],
   "source": [
    "import cmath\n",
    "import math"
   ]
  },
  {
   "cell_type": "code",
   "execution_count": 14,
   "metadata": {},
   "outputs": [],
   "source": [
    "def point8_ditfft_or_dififft(x,num):\n",
    "    twiddle = [1,complex(1,-1)*(1/math.sqrt(2)),complex(0,-1),complex(-1,-1)*(1/math.sqrt(2))]\n",
    "    twiddle_conjugate = [twiddle[0],twiddle[1].conjugate(),twiddle[2].conjugate(),twiddle[3].conjugate()]\n",
    "    if num == 0:\n",
    "        w = twiddle\n",
    "    elif num == 1:\n",
    "        w = twiddle_conjugate\n",
    "    else:\n",
    "        print(\"Invalid input attribute\")\n",
    "        return num\n",
    "    first_stage_input = [x[0],x[4],x[2],x[6],x[1],x[3],x[5],x[7]]\n",
    "    print(\"\\nFirst stage input =\",first_stage_input)\n",
    "    first_stage_output = [first_stage_input[0]+first_stage_input[1],-first_stage_input[1]+first_stage_input[0],first_stage_input[2]+first_stage_input[3],-first_stage_input[3]+first_stage_input[2],\n",
    "                       first_stage_input[4]+first_stage_input[5],-first_stage_input[5]+first_stage_input[4],first_stage_input[6]+first_stage_input[7],-first_stage_input[7]+first_stage_input[6]]\n",
    "    print(\"\\nFirst stage output =\",first_stage_output)\n",
    "    second_stage_input = [first_stage_output[0],first_stage_output[1],first_stage_output[2]*w[0],first_stage_output[3]*w[2],\n",
    "                     first_stage_output[4],first_stage_output[5],first_stage_output[6]*w[0],first_stage_output[7]*w[2]]\n",
    "    print(\"\\nSecond stage input =\",second_stage_input)\n",
    "    second_stage_output = [second_stage_input[0]+second_stage_input[2],second_stage_input[1]+second_stage_input[3],-second_stage_input[2]+second_stage_input[0],-second_stage_input[3]+second_stage_input[1],\n",
    "                       second_stage_input[4]+second_stage_input[6],second_stage_input[5]+second_stage_input[7],-second_stage_input[6]+second_stage_input[4],-second_stage_input[7]+second_stage_input[5]]\n",
    "    print(\"\\nSecond stage output =\",second_stage_output)\n",
    "    third_stage_input =  [second_stage_output[0],second_stage_output[1],second_stage_output[2],second_stage_output[3],\n",
    "                     second_stage_output[4]*w[0],second_stage_output[5]*w[1],second_stage_output[6]*w[2],second_stage_output[7]*w[3]]\n",
    "    print(\"\\nThird stage input =\",third_stage_input)\n",
    "    third_stage_output = [third_stage_input[0]+third_stage_input[4],third_stage_input[1]+third_stage_input[5],third_stage_input[2]+third_stage_input[6],third_stage_input[3]+third_stage_input[7],\n",
    "                      -third_stage_input[4]+third_stage_input[0],-third_stage_input[5]+third_stage_input[1],-third_stage_input[6]+third_stage_input[2],-third_stage_input[7]+third_stage_input[3]]\n",
    "    print(\"\\nThird stage output =\",third_stage_output)\n",
    "    y = third_stage_output\n",
    "    for i,k in enumerate(y):\n",
    "        if num == 1:\n",
    "            y[i]=y[i]/8\n",
    "        if y[i].imag == 0.0:\n",
    "            y[i] = y[i].real        \n",
    "    return y"
   ]
  },
  {
   "cell_type": "code",
   "execution_count": 15,
   "metadata": {},
   "outputs": [],
   "source": [
    "def point8_diffft_or_ditifft(x,num):\n",
    "    twiddle = [1,complex(1,-1)*(1/math.sqrt(2)),complex(0,-1),complex(-1,-1)*(1/math.sqrt(2))]\n",
    "    twiddle_conjugate = [twiddle[0],twiddle[1].conjugate(),twiddle[2].conjugate(),twiddle[3].conjugate()]\n",
    "    if num == 0:\n",
    "        w = twiddle\n",
    "    elif num == 1:\n",
    "        w = twiddle_conjugate\n",
    "    else:\n",
    "        print(\"Invalid input attribute\")\n",
    "        return num\n",
    "    first_stage_output = [x[0]+x[4],x[1]+x[5],x[2]+x[6],x[3]+x[7],-x[4]+x[0],-x[5]+x[1],-x[6]+x[2],-x[7]+x[3]]\n",
    "    print(\"\\nFirst stage output =\",first_stage_output)\n",
    "    second_stage_input = [first_stage_output[0],first_stage_output[1],first_stage_output[2],first_stage_output[3],\n",
    "                     first_stage_output[4]*w[0],first_stage_output[5]*w[1],first_stage_output[6]*w[2],first_stage_output[7]*w[3]]\n",
    "    print(\"\\nSecond stage input =\",second_stage_input)\n",
    "    second_stage_output = [second_stage_input[0]+second_stage_input[2],second_stage_input[1]+second_stage_input[3],-second_stage_input[2]+second_stage_input[0],-second_stage_input[3]+second_stage_input[1],\n",
    "                       second_stage_input[4]+second_stage_input[6],second_stage_input[5]+second_stage_input[7],-second_stage_input[6]+second_stage_input[4],-second_stage_input[7]+second_stage_input[5]]\n",
    "    print(\"\\nSecond stage output =\",second_stage_output)\n",
    "    third_stage_input = [second_stage_output[0],second_stage_output[1],second_stage_output[2]*w[0],second_stage_output[3]*w[2],\n",
    "                     second_stage_output[4],second_stage_output[5],second_stage_output[6]*w[0],second_stage_output[7]*w[2]]\n",
    "    print(\"\\nThird stage input =\",third_stage_input)\n",
    "    third_stage_output = [third_stage_input[0]+third_stage_input[1],-third_stage_input[1]+third_stage_input[0],third_stage_input[2]+third_stage_input[3],-third_stage_input[3]+third_stage_input[2],\n",
    "                       third_stage_input[4]+third_stage_input[5],-third_stage_input[5]+third_stage_input[4],third_stage_input[6]+third_stage_input[7],-third_stage_input[7]+third_stage_input[6]]\n",
    "    print(\"\\nThird stage output =\",third_stage_output)\n",
    "    y = [third_stage_output[0],third_stage_output[4],third_stage_output[2],third_stage_output[6],\n",
    "          third_stage_output[1],third_stage_output[5],third_stage_output[3],third_stage_output[7]]\n",
    "    for i,k in enumerate(y):\n",
    "        if num == 1:\n",
    "            y[i]=y[i]/8\n",
    "        if y[i].imag == 0.0:\n",
    "            y[i] = y[i].real\n",
    "    return y"
   ]
  },
  {
   "cell_type": "code",
   "execution_count": 16,
   "metadata": {},
   "outputs": [
    {
     "name": "stdout",
     "output_type": "stream",
     "text": [
      "What do you what to find?\n",
      "1)DFT\t2)IDFT\n",
      "->2\n",
      "Using what method do you what to find\n",
      "1)DIT\t2)DIF\n",
      "->1\n",
      "Enter the 8 number sequence:36,-4+9.7j,-4+4j,-4+7.7j,-4,-4-7.7j,-4-4j,-4-9.7j\n",
      "\n",
      "First stage output = [(32+0j), (-8+1.9999999999999991j), (-8+0j), (-8-1.9999999999999991j), (40+0j), 17.4j, 8j, 17.4j]\n",
      "\n",
      "Second stage input = [(32+0j), (-8+1.9999999999999991j), (-8+0j), (-8-1.9999999999999991j), (40+0j), (-12.303657992645924+12.303657992645924j), (-8+0j), (-12.303657992645924-12.303657992645924j)]\n",
      "\n",
      "Second stage output = [(24+0j), (-16+0j), (40+0j), 3.9999999999999982j, (32+0j), (-24.607315985291848+0j), (48+0j), 24.607315985291848j]\n",
      "\n",
      "Third stage input = [(24+0j), (-16+0j), (40+0j), (-3.9999999999999982+0j), (32+0j), (-24.607315985291848+0j), (48+0j), (-24.607315985291848+0j)]\n",
      "\n",
      "Third stage output = [(8+0j), (40+0j), (36+0j), (44+0j), (7.392684014708152+0j), (56.60731598529185+0j), (23.392684014708152+0j), (72.60731598529185+0j)]\n",
      "\n",
      "x(n) = [1.0, 0.924085501838519, 4.5, 2.924085501838519, 5.0, 7.075914498161481, 5.5, 9.075914498161481]\n"
     ]
    }
   ],
   "source": [
    "transform_choice = input(\"What do you what to find?\\n1)DFT\\t2)IDFT\\n->\")\n",
    "method_choice = input(\"Using what method do you what to find\\n1)DIT\\t2)DIF\\n->\")\n",
    "input_entered1 = ['DFT','dft','Dft','dFt','dfT','DFt','dFT','DfT','1','1.','1)','1)DFT']\n",
    "input_entered2 = ['IFT','idft','IDft','idFt','idfT','IDFt','idFT','IDfT','2','2.','2)','2)IDFT']\n",
    "input_entered3 = ['dit','DIT','Dit','dIt','diT','DIt','dIT','DiT','1','1.','1)','1)DIT']\n",
    "input_entered4 = ['dif','DIF','Dif','dIf','diF','DIf','dIF','DiF','2','2.','2)','2)DIF']\n",
    "\n",
    "x = input(\"Enter the 8 number sequence:\") \n",
    "# xk = 0.5,0.5,0.5,0.5,0,0.5,0.5,0.5  xk = 1,2,3,4,4,3,2,1  xk=36,-4+9.7j,-4+4j,-4+7.7j,-4,-4-7.7j,-4-4j,-4-9.7j\n",
    "#xn = 0,0,0,0,8,0,0,0  \n",
    "x = x.split(\",\"or\" \")\n",
    "for i,num in enumerate(x):\n",
    "    try:\n",
    "        x[i] = complex(num)\n",
    "    except:\n",
    "        print(\"You didn't enter a number\")\n",
    "w = [1,complex(1,-1)*(1/math.sqrt(2)),complex(0,-1),complex(-1,-1)*(1/math.sqrt(2))]\n",
    "wc = [w[0],w[1].conjugate(),w[2].conjugate(),w[3].conjugate()]\n",
    "\n",
    "if transform_choice in input_entered1:\n",
    "    if method_choice in input_entered3:\n",
    "        print(\"\\nX(k) =\",point8_ditfft_or_dififft(x,0))\n",
    "    elif method_choice in input_entered4:\n",
    "        print(\"\\nX(k) =\",point8_diffft_or_ditifft(x,0))\n",
    "    else:\n",
    "        print(\"Typo in choosing method\")\n",
    "elif transform_choice in input_entered2:\n",
    "    if method_choice in input_entered3:\n",
    "        print(\"\\nx(n) =\",point8_diffft_or_ditifft(x,1))\n",
    "    elif method_choice in input_entered4:\n",
    "        print(\"\\nx(n) =\",point8_ditfft_or_dififft(x,1))\n",
    "    else:\n",
    "        print(\"Typo in choosing method\")\n",
    "else:\n",
    "        print(\"Typo in choosing transform\")    "
   ]
  }
 ],
 "metadata": {
  "kernelspec": {
   "display_name": "Python 3",
   "language": "python",
   "name": "python3"
  },
  "language_info": {
   "codemirror_mode": {
    "name": "ipython",
    "version": 3
   },
   "file_extension": ".py",
   "mimetype": "text/x-python",
   "name": "python",
   "nbconvert_exporter": "python",
   "pygments_lexer": "ipython3",
   "version": "3.10.4 (main, Nov 29 2022, 20:00:25) [GCC 9.4.0]"
  },
  "vscode": {
   "interpreter": {
    "hash": "3ad933181bd8a04b432d3370b9dc3b0662ad032c4dfaa4e4f1596c548f763858"
   }
  }
 },
 "nbformat": 4,
 "nbformat_minor": 2
}
